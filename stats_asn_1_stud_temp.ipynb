{
 "cells": [
  {
   "cell_type": "code",
   "execution_count": 1,
   "metadata": {},
   "outputs": [],
   "source": [
    "import thinkplot\n",
    "import thinkstats2\n",
    "import pandas as pd\n",
    "import numpy as np\n",
    "import scipy\n",
    "import seaborn as sns\n",
    "from matplotlib import pyplot as plt"
   ]
  },
  {
   "cell_type": "markdown",
   "metadata": {},
   "source": [
    "# Assignment #1 - Basic Data Exploration in Python\n",
    "\n",
    "## Assignment Overview\n",
    "\n",
    "In this assignment you'll load some data into a python notebook, and use some basic functions to do some basic analysis. Each section asks you to either calculate some answers or explore some information found in the data. When generating your answers, try to think about a few factors that can make your code better:\n",
    "<ul>\n",
    "<li> Present the answers clearly. Use the markdown cells, code comments, and formatting to help make your answers readable. One of the features of notebooks is that they allow us to combine code and commentary, and we need to ensure both are readable. Refer to the guide in the guides folder of the exercises workbook for an explaination and examples of different formatting. \n",
    "<li> Make your code clear. It is easy to make sense of small pieces of code, for short periods of time, so if your code makes little sense here, it won't really hurt your ability to find the answers. If you need to come back to it later, or others need to edit it, having code that doesn't make sense is a big issue. Use things like clearly named variables, comments, and spacing to make things readable. Even in this course, if you are looking back to something from 2 months ago for the project, it is far easier to understand code that is cleaned up a little. \n",
    "<li> Structure the code well. If there is some kind of repetitive task, it should likely be moved into a function. If there is something that happens several times, it should be in a loop. Having well structured code makes it easy to reuse stuff later, understand how things work, debug errors, and share code with others. This is something to keep in the back of your minds, right now you may not have much experience to lean on to judge how things should be, as you read, adjust, and write code it will become more clear. \n",
    "</ul>\n",
    "\n",
    "## Peer Evaluation\n",
    "\n",
    "This assignemnt will have a peer evaluation for the grade - you'll each read some other notebooks and evaluate their answers. The reason for this is not (entirely) my personal laziness, we are hoping to accomplish a couple of things:\n",
    "<ul>\n",
    "<li> Quick experience reading notebooks. One of the important skills we need to have is the ability to read examples that we find and adapting it to our scenario. This is practice with data you're now comfortable with.\n",
    "<li> Critically evaluating what makes sense in a data notebook. You know how you attempted to explain your look at the data, how did other people do it? What was better? What was worse?\n",
    "<li> Design is subjective. This will give you a set of opinions that are not mine. You will end up with plenty of feedback of what I think, feadback of others early-on should hopefully help you make things appealing to all and not tailored to me. \n",
    "</ul>\n",
    "Doing this right up front will hopefully help kickstart some of that expericence. \n",
    "\n",
    "### Grading\n",
    "\n",
    "The detailed grading is defined in the marking guide in the Moodle workshop. Note that there's points both for getting a correct answer and for presenting it in a way that makes sense. \n",
    "\n",
    "## Structure\n",
    "\n",
    "Each section contains a set of questions/prompts and a rough framework for your responses. You can change the structure around, just make sure it is readable. What I have there is just a loose guide to help get you started, you're not bound to it. "
   ]
  },
  {
   "cell_type": "markdown",
   "metadata": {},
   "source": [
    "## Load Data\n",
    "\n",
    "Load the labor data into a dataframe. You probably don't want to change this section. "
   ]
  },
  {
   "cell_type": "code",
   "execution_count": 2,
   "metadata": {},
   "outputs": [
    {
     "data": {
      "text/html": [
       "<div>\n",
       "<style scoped>\n",
       "    .dataframe tbody tr th:only-of-type {\n",
       "        vertical-align: middle;\n",
       "    }\n",
       "\n",
       "    .dataframe tbody tr th {\n",
       "        vertical-align: top;\n",
       "    }\n",
       "\n",
       "    .dataframe thead th {\n",
       "        text-align: right;\n",
       "    }\n",
       "</style>\n",
       "<table border=\"1\" class=\"dataframe\">\n",
       "  <thead>\n",
       "    <tr style=\"text-align: right;\">\n",
       "      <th></th>\n",
       "      <th>Age</th>\n",
       "      <th>Eduacation</th>\n",
       "      <th>Race</th>\n",
       "      <th>Hisp</th>\n",
       "      <th>MaritalStatus</th>\n",
       "      <th>Nodeg</th>\n",
       "      <th>Earnings_1974</th>\n",
       "      <th>Earnings_1975</th>\n",
       "      <th>Earnings_1978</th>\n",
       "    </tr>\n",
       "  </thead>\n",
       "  <tbody>\n",
       "    <tr>\n",
       "      <th>0</th>\n",
       "      <td>45</td>\n",
       "      <td>LessThanHighSchool</td>\n",
       "      <td>NotBlack</td>\n",
       "      <td>NotHispanic</td>\n",
       "      <td>Married</td>\n",
       "      <td>1</td>\n",
       "      <td>21516.670</td>\n",
       "      <td>25243.550</td>\n",
       "      <td>25564.670</td>\n",
       "    </tr>\n",
       "    <tr>\n",
       "      <th>1</th>\n",
       "      <td>21</td>\n",
       "      <td>Intermediate</td>\n",
       "      <td>NotBlack</td>\n",
       "      <td>NotHispanic</td>\n",
       "      <td>NotMarried</td>\n",
       "      <td>0</td>\n",
       "      <td>3175.971</td>\n",
       "      <td>5852.565</td>\n",
       "      <td>13496.080</td>\n",
       "    </tr>\n",
       "    <tr>\n",
       "      <th>2</th>\n",
       "      <td>38</td>\n",
       "      <td>HighSchool</td>\n",
       "      <td>NotBlack</td>\n",
       "      <td>NotHispanic</td>\n",
       "      <td>Married</td>\n",
       "      <td>0</td>\n",
       "      <td>23039.020</td>\n",
       "      <td>25130.760</td>\n",
       "      <td>25564.670</td>\n",
       "    </tr>\n",
       "    <tr>\n",
       "      <th>3</th>\n",
       "      <td>48</td>\n",
       "      <td>LessThanHighSchool</td>\n",
       "      <td>NotBlack</td>\n",
       "      <td>NotHispanic</td>\n",
       "      <td>Married</td>\n",
       "      <td>1</td>\n",
       "      <td>24994.370</td>\n",
       "      <td>25243.550</td>\n",
       "      <td>25564.670</td>\n",
       "    </tr>\n",
       "    <tr>\n",
       "      <th>4</th>\n",
       "      <td>18</td>\n",
       "      <td>LessThanHighSchool</td>\n",
       "      <td>NotBlack</td>\n",
       "      <td>NotHispanic</td>\n",
       "      <td>Married</td>\n",
       "      <td>1</td>\n",
       "      <td>1669.295</td>\n",
       "      <td>10727.610</td>\n",
       "      <td>9860.869</td>\n",
       "    </tr>\n",
       "  </tbody>\n",
       "</table>\n",
       "</div>"
      ],
      "text/plain": [
       "   Age          Eduacation      Race         Hisp MaritalStatus  Nodeg  \\\n",
       "0   45  LessThanHighSchool  NotBlack  NotHispanic       Married      1   \n",
       "1   21        Intermediate  NotBlack  NotHispanic    NotMarried      0   \n",
       "2   38          HighSchool  NotBlack  NotHispanic       Married      0   \n",
       "3   48  LessThanHighSchool  NotBlack  NotHispanic       Married      1   \n",
       "4   18  LessThanHighSchool  NotBlack  NotHispanic       Married      1   \n",
       "\n",
       "   Earnings_1974  Earnings_1975  Earnings_1978  \n",
       "0      21516.670      25243.550      25564.670  \n",
       "1       3175.971       5852.565      13496.080  \n",
       "2      23039.020      25130.760      25564.670  \n",
       "3      24994.370      25243.550      25564.670  \n",
       "4       1669.295      10727.610       9860.869  "
      ]
     },
     "execution_count": 2,
     "metadata": {},
     "output_type": "execute_result"
    }
   ],
   "source": [
    "#Load/preview datas\n",
    "df = pd.read_csv(\"LabourTrainingEvaluationData.csv\")\n",
    "df.head()"
   ]
  },
  {
   "cell_type": "code",
   "execution_count": 3,
   "metadata": {},
   "outputs": [
    {
     "data": {
      "text/html": [
       "<div>\n",
       "<style scoped>\n",
       "    .dataframe tbody tr th:only-of-type {\n",
       "        vertical-align: middle;\n",
       "    }\n",
       "\n",
       "    .dataframe tbody tr th {\n",
       "        vertical-align: top;\n",
       "    }\n",
       "\n",
       "    .dataframe thead th {\n",
       "        text-align: right;\n",
       "    }\n",
       "</style>\n",
       "<table border=\"1\" class=\"dataframe\">\n",
       "  <thead>\n",
       "    <tr style=\"text-align: right;\">\n",
       "      <th></th>\n",
       "      <th>Age</th>\n",
       "      <th>Nodeg</th>\n",
       "      <th>Earnings_1974</th>\n",
       "      <th>Earnings_1975</th>\n",
       "      <th>Earnings_1978</th>\n",
       "    </tr>\n",
       "  </thead>\n",
       "  <tbody>\n",
       "    <tr>\n",
       "      <th>count</th>\n",
       "      <td>15992.000000</td>\n",
       "      <td>15992.000000</td>\n",
       "      <td>15992.000000</td>\n",
       "      <td>15992.000000</td>\n",
       "      <td>15992.000000</td>\n",
       "    </tr>\n",
       "    <tr>\n",
       "      <th>mean</th>\n",
       "      <td>33.225238</td>\n",
       "      <td>0.295835</td>\n",
       "      <td>14016.800304</td>\n",
       "      <td>13650.803376</td>\n",
       "      <td>14846.659673</td>\n",
       "    </tr>\n",
       "    <tr>\n",
       "      <th>std</th>\n",
       "      <td>11.045216</td>\n",
       "      <td>0.456432</td>\n",
       "      <td>9569.795893</td>\n",
       "      <td>9270.403225</td>\n",
       "      <td>9647.391524</td>\n",
       "    </tr>\n",
       "    <tr>\n",
       "      <th>min</th>\n",
       "      <td>16.000000</td>\n",
       "      <td>0.000000</td>\n",
       "      <td>0.000000</td>\n",
       "      <td>0.000000</td>\n",
       "      <td>0.000000</td>\n",
       "    </tr>\n",
       "    <tr>\n",
       "      <th>25%</th>\n",
       "      <td>24.000000</td>\n",
       "      <td>0.000000</td>\n",
       "      <td>4403.452250</td>\n",
       "      <td>4398.823000</td>\n",
       "      <td>5669.298000</td>\n",
       "    </tr>\n",
       "    <tr>\n",
       "      <th>50%</th>\n",
       "      <td>31.000000</td>\n",
       "      <td>0.000000</td>\n",
       "      <td>15123.580000</td>\n",
       "      <td>14557.110000</td>\n",
       "      <td>16421.975000</td>\n",
       "    </tr>\n",
       "    <tr>\n",
       "      <th>75%</th>\n",
       "      <td>42.000000</td>\n",
       "      <td>1.000000</td>\n",
       "      <td>23584.180000</td>\n",
       "      <td>22923.737500</td>\n",
       "      <td>25564.670000</td>\n",
       "    </tr>\n",
       "    <tr>\n",
       "      <th>max</th>\n",
       "      <td>55.000000</td>\n",
       "      <td>1.000000</td>\n",
       "      <td>25862.320000</td>\n",
       "      <td>25243.550000</td>\n",
       "      <td>25564.670000</td>\n",
       "    </tr>\n",
       "  </tbody>\n",
       "</table>\n",
       "</div>"
      ],
      "text/plain": [
       "                Age         Nodeg  Earnings_1974  Earnings_1975  Earnings_1978\n",
       "count  15992.000000  15992.000000   15992.000000   15992.000000   15992.000000\n",
       "mean      33.225238      0.295835   14016.800304   13650.803376   14846.659673\n",
       "std       11.045216      0.456432    9569.795893    9270.403225    9647.391524\n",
       "min       16.000000      0.000000       0.000000       0.000000       0.000000\n",
       "25%       24.000000      0.000000    4403.452250    4398.823000    5669.298000\n",
       "50%       31.000000      0.000000   15123.580000   14557.110000   16421.975000\n",
       "75%       42.000000      1.000000   23584.180000   22923.737500   25564.670000\n",
       "max       55.000000      1.000000   25862.320000   25243.550000   25564.670000"
      ]
     },
     "execution_count": 3,
     "metadata": {},
     "output_type": "execute_result"
    }
   ],
   "source": [
    "df.describe()"
   ]
  },
  {
   "cell_type": "markdown",
   "metadata": {},
   "source": [
    "## Part 1 - Age\n",
    "\n",
    "<ol>\n",
    "<li> Make and plot a Hist and Pmf for age.\n",
    "<li> What fraction of the people in the data are 51? What fraction are older than 51?\n",
    "<li> What is the median age? \n",
    "<li> Does the distribution of the sample data seem to mirror the working age population?\n",
    "</ol>"
   ]
  },
  {
   "cell_type": "markdown",
   "metadata": {},
   "source": [
    "#### Make and plot a Hist and Pmf for age."
   ]
  },
  {
   "cell_type": "code",
   "execution_count": 4,
   "metadata": {},
   "outputs": [
    {
     "data": {
      "image/png": "[encoded data removed]",
      "text/plain": [
       "<Figure size 432x288 with 1 Axes>"
      ]
     },
     "metadata": {
      "needs_background": "light"
     },
     "output_type": "display_data"
    }
   ],
   "source": [
    "age=thinkstats2.Hist(df[\"Age\"], label=\"Age\")\n",
    "thinkplot.Hist(age)\n",
    "thinkplot.Config(xlabel=\"Age\", ylabel=\"Count\")"
   ]
  },
  {
   "cell_type": "code",
   "execution_count": 5,
   "metadata": {},
   "outputs": [
    {
     "data": {
      "image/png": "[encoded data removed]",
      "text/plain": [
       "<Figure size 576x432 with 1 Axes>"
      ]
     },
     "metadata": {
      "needs_background": "light"
     },
     "output_type": "display_data"
    },
    {
     "data": {
      "text/plain": [
       "<Figure size 576x432 with 0 Axes>"
      ]
     },
     "metadata": {},
     "output_type": "display_data"
    }
   ],
   "source": [
    "agepmf=thinkstats2.Pmf(age)\n",
    "thinkplot.PrePlot(cols=1)\n",
    "thinkplot.Pmfs([agepmf])\n",
    "thinkplot.Show(xlabel=\"Age\", ylabel=\"Percentage\")"
   ]
  },
  {
   "cell_type": "markdown",
   "metadata": {},
   "source": [
    "#### What fraction of the people in the data are 51? What fraction are older than 51?"
   ]
  },
  {
   "cell_type": "code",
   "execution_count": 6,
   "metadata": {},
   "outputs": [
    {
     "name": "stdout",
     "output_type": "stream",
     "text": [
      "314\n",
      "1171\n",
      "Fraction of people that are age 51: 314/15992\n",
      "Fraction of people that are over age 51: 1171/15992\n"
     ]
    }
   ],
   "source": [
    "age_51 = df[df[\"Age\"] == 51]\n",
    "age_51plus =df[df[\"Age\"] > 51]\n",
    "print(age_51[\"Age\"].count())\n",
    "print(age_51plus[\"Age\"].count())\n",
    "\n",
    "print(\"Fraction of people that are age 51:\", \"314/15992\")\n",
    "print(\"Fraction of people that are over age 51:\", \"1171/15992\")\n"
   ]
  },
  {
   "cell_type": "markdown",
   "metadata": {},
   "source": [
    "314/15992 people are 51 years old. 1171/15992 are older than 51. "
   ]
  },
  {
   "cell_type": "markdown",
   "metadata": {},
   "source": [
    "##### What is the median age?"
   ]
  },
  {
   "cell_type": "code",
   "execution_count": 7,
   "metadata": {},
   "outputs": [
    {
     "name": "stdout",
     "output_type": "stream",
     "text": [
      "31.0\n"
     ]
    }
   ],
   "source": [
    "print(df[\"Age\"].median())"
   ]
  },
  {
   "cell_type": "markdown",
   "metadata": {},
   "source": [
    "Median age is 31 years old."
   ]
  },
  {
   "cell_type": "markdown",
   "metadata": {},
   "source": [
    "##### Does the distribution of the sample data seem to mirror the working age population?"
   ]
  },
  {
   "cell_type": "markdown",
   "metadata": {},
   "source": [
    "Yes, upon a quick Google search, typical age demographics of USA, for example, have a normal distrubution skewed slightly to the left. The majority of the working class are around 20-40 years old, with a peak at around 30 years old, as shown by the histogram above. So the data used here is a pretty good representation of a typical working age population. "
   ]
  },
  {
   "cell_type": "markdown",
   "metadata": {},
   "source": [
    "### Part 2 - Demographics\n",
    "\n",
    "<ul>\n",
    "<li>Consider some of the demographic features: \n",
    "    <ul>\n",
    "    <li>Education\n",
    "    <li>Race\n",
    "    <li>Hisp\n",
    "    <li>MaritalStatus\n",
    "    <li>Nodeg. \n",
    "    </ul>\n",
    "</ul>\n",
    "<ol>\n",
    "<li>This data came from the United States, does it appear to be a representative sample of the US population?\n",
    "<li>Demonstrate this in some way in your code. \n",
    "</ol>\n",
    "\n",
    "##### Exploring the data..."
   ]
  },
  {
   "cell_type": "code",
   "execution_count": 8,
   "metadata": {},
   "outputs": [
    {
     "name": "stdout",
     "output_type": "stream",
     "text": [
      "29.6% have an education of less than high school.\n",
      "16.9% have an education of intermediate.\n",
      "39.1% have an education of high school.\n",
      "8.5% have an education of graduate.\n",
      "5.8% have an education of post-graduate.\n"
     ]
    }
   ],
   "source": [
    "lessthanhighschool=df[df[\"Eduacation\"]==\"LessThanHighSchool\"]\n",
    "print('{:.1%}'.format((lessthanhighschool[\"Eduacation\"].count())/15992), \"have an education of less than high school.\")\n",
    "\n",
    "intermediate=df[df[\"Eduacation\"]==\"Intermediate\"]\n",
    "print('{:.1%}'.format((intermediate[\"Eduacation\"].count())/15992), \"have an education of intermediate.\")\n",
    "\n",
    "highschool=df[df[\"Eduacation\"]==\"HighSchool\"]\n",
    "print('{:.1%}'.format((highschool[\"Eduacation\"].count())/15992), \"have an education of high school.\")\n",
    "\n",
    "graduate=df[df[\"Eduacation\"]==\"graduate\"]\n",
    "print('{:.1%}'.format((graduate[\"Eduacation\"].count())/15992), \"have an education of graduate.\")\n",
    "\n",
    "postgraduate=df[df[\"Eduacation\"]==\"PostGraduate\"]\n",
    "print('{:.1%}'.format((postgraduate[\"Eduacation\"].count())/15992), \"have an education of post-graduate.\")"
   ]
  },
  {
   "cell_type": "code",
   "execution_count": 9,
   "metadata": {},
   "outputs": [
    {
     "name": "stdout",
     "output_type": "stream",
     "text": [
      "7.4% of people are black.\n",
      "7.2% of people are Hispanic.\n",
      "71.2% of people are married.\n",
      "29.6% of people have no degree.\n"
     ]
    }
   ],
   "source": [
    "black=df[df[\"Race\"]==\"black\"]\n",
    "print('{:.1%}'.format((black[\"Race\"].count())/15992), \"of people are black.\")\n",
    "\n",
    "hispanic=df[df[\"Hisp\"]==\"hispanic\"]\n",
    "print('{:.1%}'.format((hispanic[\"Hisp\"].count())/15992), \"of people are Hispanic.\")\n",
    "\n",
    "maritalstatus=df[df[\"MaritalStatus\"]==\"Married\"]\n",
    "print('{:.1%}'.format((maritalstatus[\"MaritalStatus\"].count())/15992), \"of people are married.\")\n",
    "\n",
    "nodegree=df[df[\"Nodeg\"]==1]\n",
    "print('{:.1%}'.format((nodegree[\"Nodeg\"].count())/15992), \"of people have no degree.\")"
   ]
  },
  {
   "cell_type": "markdown",
   "metadata": {},
   "source": [
    "Education: According to 2021 US Census Bureau, 8.9% of people have a lower than a high school diploma, 27.9% have a high school diploma, 23.5% have a bachelor's degree, and 14.4% have a post-graduate degree. In our data, 29.6% have lower than a high school diploma, 39.1% have a high school diploma, 8.5% have a bachelor's degree, and 5.8% have a post-graduate degree.\n",
    "\n",
    "Race: 13.6% of people are black in USA based on a quick Google search, 7.4% of people are black in our data. \n",
    "\n",
    "Hisp: 18.7% of people are Hispanic in USA based on a quick Google search, 7.2% of people are black in our data. \n",
    "\n",
    "MaritalStatus: 53% of people in USA are married according to pewresearch.org, 71% are married in our data. \n",
    "\n",
    "Nodeg: In our data, a Nodeg value of 1 is only assigned to people with an Education of \"LessThanHighSchool\". This means that in the context of this data, only people who have an education of less than high school is considered no degree. According to 2021 US Census Bureau, 8.9% of people in USA have no degree. In our data, 29.6% of people have no degree. \n",
    "\n",
    "Conclusion: Based on the comparisons between a typically US population and our data, our data is not a good representative sample of the US population. Our data contains more less people who are black or hispanic compared to the typical US population. Our data contains more people who are married than the typical US population. Our table contains far more people who did not finish High School than the typical US population. Given these factors, it is reasonable to conclude that our data is a poor representation of the US population. \n",
    "\n",
    "Sources:\n",
    "https://www.pewresearch.org/social-trends/2021/10/05/rising-share-of-u-s-adults-are-living-without-a-spouse-or-partner/#:~:text=Americans'%20marital%20and%20living%20arrangements,to%209%25%20in%202019)\n",
    "\n",
    "https://www.census.gov/newsroom/press-releases/2022/educational-attainment.html\n"
   ]
  },
  {
   "cell_type": "markdown",
   "metadata": {},
   "source": [
    "##### Demographic Conclusion\n"
   ]
  },
  {
   "cell_type": "markdown",
   "metadata": {},
   "source": [
    "### Part 3 - Earnings\n",
    "\n",
    "<ol>\n",
    "<li>Make and plot a graph or graph of your choosing of the 3 earnings values, in order to answer the below question. Identify how the graph gave you your answer.\n",
    "    <ul>\n",
    "    <li>What is one conclusion could you draw from visualizing of the earnings in the different year? Please express it in plain language/non-statistics terms/as though you were explaining to one of your friends what happened to earnings between 1974 and 1978?\n",
    "    </ul>\n",
    "<li>Which has the greatest effect size on 1978 earnings: Race, Hispanic, MaritalStatus, or Nodeg? \n",
    "    <ul>\n",
    "    <li>What could you investigate further in an attempt to explain this?\n",
    "    </ul>\n",
    "<li>Plot a histogram and PMF, and compute useful descriptive statistics (think: average...) for the 1978 earnings value. Use the \"Cohorts\" code from the quiz to break the data into cohorts, plotting each group (either on one chart, or separately, whichever makes the most sense for examining the data - state specifically why you chose 1 vs many charts.\n",
    "    <ul>\n",
    "    <li>What is the difference in median income between the groups?\n",
    "    <li>Theorize a reason for the difference between the groups that could be explained with more data. Briefly describe the data you'd need. This does not need to be something you have data for, or know how to solve right now - just one well founded hypothesis on what might explain the difference.\n",
    "    </ul>\n",
    "<li>Are there outliers in the 1978 earnings data? Demonstrate this in some way with your code. \n",
    "    <ul>\n",
    "    <li>What can you infer from the presence of outliers that may impact analysis of this data.\n",
    "    </ul>\n",
    "</ol>"
   ]
  },
  {
   "cell_type": "markdown",
   "metadata": {},
   "source": [
    "##### Plot Earnings Data"
   ]
  },
  {
   "cell_type": "code",
   "execution_count": 10,
   "metadata": {},
   "outputs": [
    {
     "data": {
      "image/png": "[encoded data removed]",
      "text/plain": [
       "<Figure size 432x288 with 1 Axes>"
      ]
     },
     "metadata": {
      "needs_background": "light"
     },
     "output_type": "display_data"
    }
   ],
   "source": [
    "earning1974 = thinkstats2.Hist(round(df[\"Earnings_1974\"], -3), label=\"1974\")\n",
    "earning1975 = thinkstats2.Hist(round(df[\"Earnings_1975\"], -3), label=\"1975\")\n",
    "earning1978 = thinkstats2.Hist(round(df[\"Earnings_1978\"], -3), label=\"1978\")\n",
    "#Before plotting earnings histogram, the values need to be round to the nearest thousands or it will try to plot every distinct earning value. \n",
    "thinkplot.Hist(earning1974, align=\"left\", width=500, color=\"red\")\n",
    "thinkplot.Hist(earning1975, align=\"center\", width=500, color=\"blue\")\n",
    "thinkplot.Hist(earning1978, align=\"right\", width=500, color=\"green\")\n",
    "\n",
    "thinkplot.Config(xlabel = \"Earnings\", ylabel = \"Count\")"
   ]
  },
  {
   "cell_type": "markdown",
   "metadata": {},
   "source": [
    "Conclusion: The histogram shows that the top earners (People who earned more than 25000 dollars) increased significantly from 1974 to 1978. This is shown by the green bar (1978) in the histogram being significantly higher than the red bar (1974) or the blue bar (1975)."
   ]
  },
  {
   "cell_type": "markdown",
   "metadata": {},
   "source": [
    "As a conclusion, there seems to be a large jump in the number of people earning near the top end, around 25000 dollars. Otherwise the distributions are pretty similar. "
   ]
  },
  {
   "cell_type": "markdown",
   "metadata": {},
   "source": [
    "##### What to Investigate Further\n"
   ]
  },
  {
   "cell_type": "code",
   "execution_count": 11,
   "metadata": {},
   "outputs": [
    {
     "name": "stdout",
     "output_type": "stream",
     "text": [
      "Difference in median earnings between black people and non black people in 1978 is 4778.23\n",
      "Difference in median earnings between hispanic people and non hispanic people in 1978 is 2999.7800000000007\n",
      "Difference in median earnings between married people and non married people in 1978 is 9682.806999999997\n",
      "Difference in median earnings between people with a degree and people without a degree in 1978 is 6280.340000000002\n"
     ]
    }
   ],
   "source": [
    "black_effect=df[df[\"Race\"]==\"black\"]\n",
    "notblack_effect=df[df[\"Race\"]==\"NotBlack\"]\n",
    "\n",
    "hispanic_effect=df[df[\"Hisp\"]==\"hispanic\"]\n",
    "nothispanic_effect=df[df[\"Hisp\"]==\"NotHispanic\"]\n",
    "\n",
    "married_effect=df[df[\"MaritalStatus\"]==\"Married\"]\n",
    "notmarried_effect=df[df[\"MaritalStatus\"]==\"NotMarried\"]\n",
    "\n",
    "degree_effect=df[df[\"Nodeg\"]==1]\n",
    "nodegree_effect=df[df[\"Nodeg\"]==0]\n",
    "\n",
    "\n",
    "#For each category, I took the median earnings in 1978 between different groups of people and subtracted them. \n",
    "#I repeated this process for each category and the category with the greatest differnce would mean that it has the greatest effect size on earnings in 1978. \n",
    "print(\"Difference in median earnings between black people and non black people in 1978 is\", (notblack_effect[\"Earnings_1978\"].median())-(black_effect[\"Earnings_1978\"].median()))\n",
    "print(\"Difference in median earnings between hispanic people and non hispanic people in 1978 is\", (nothispanic_effect[\"Earnings_1978\"].median())-(hispanic_effect[\"Earnings_1978\"].median()))\n",
    "print(\"Difference in median earnings between married people and non married people in 1978 is\", (married_effect[\"Earnings_1978\"].median())-(notmarried_effect[\"Earnings_1978\"].median()))\n",
    "print(\"Difference in median earnings between people with a degree and people without a degree in 1978 is\", (nodegree_effect[\"Earnings_1978\"].median())-(degree_effect[\"Earnings_1978\"].median()))"
   ]
  },
  {
   "cell_type": "markdown",
   "metadata": {},
   "source": [
    "Conclusion: since the difference in median earnings between married people and non married people is the highest of the 4 categories, marital status has the greatest size effect on earnings in 1978. \n",
    "\n",
    "Furthur investigation: in this question I used the difference in median earnings instead of mean earnings because there are too many people who earn 0 dollars and >25000 dollars, as shown in the histogram in question 1. Using the mean of earnings would be a poor representation of the group because of these outliers, so I opted to use the median instead. Unfortunately using the difference in median earnings between 2 groups doesn't account for the standard deviation in each data group. \n",
    "\n",
    "A better way to compare effect size could be to use Cohen's d formula to compare the effect size of 2 means. Cohen's d divides the difference between 2 means by the pooled standard deviations of the 2 groups, so the effect size between the 2 groups can be compared while accounting for standard deviation in the data. The formula is as follows: \n",
    "\n",
    "d=[(mean 1)-(mean 2)]/[(((standard deviation 1)^2)+((standard deviation 1)^2))/2]^(1/2)\n",
    "\n",
    "The problem is that I need to use the mean for this calculation and the outliers of earners of 0 dollars and >25000 dollars will skew the mean. So for this formula to work I would need to cut out the outliers which I don't think is a good idea because realistically people who earn $0 and >$25000 are still part of the demographic. \n",
    "\n",
    "Source: https://toptipbio.com/cohens-d/"
   ]
  },
  {
   "cell_type": "markdown",
   "metadata": {},
   "source": [
    "##### Histogram and PMF"
   ]
  },
  {
   "cell_type": "markdown",
   "metadata": {},
   "source": [
    "Did not do this question per instructor's instructions. "
   ]
  },
  {
   "cell_type": "code",
   "execution_count": 12,
   "metadata": {},
   "outputs": [],
   "source": [
    "#Create a hist, pmf, and stats for 1987 Earnings\n",
    "#Note: if you don't round or otherwise create bins, the thinkstats plots for this will be weird\n",
    "#That's because there are very few values that are the same, e.g. $14762.34, $15672.86, etc... \n",
    "#Every cent is a different value. \n",
    "#Seaborn plots will probably look better by default. "
   ]
  },
  {
   "cell_type": "markdown",
   "metadata": {},
   "source": [
    "##### Differences in Median Income, and Theory on Why\n"
   ]
  },
  {
   "cell_type": "markdown",
   "metadata": {},
   "source": [
    "Did not do this question per instructor's instructions. "
   ]
  },
  {
   "cell_type": "markdown",
   "metadata": {},
   "source": [
    "##### Outliers"
   ]
  },
  {
   "cell_type": "code",
   "execution_count": 13,
   "metadata": {},
   "outputs": [
    {
     "name": "stdout",
     "output_type": "stream",
     "text": [
      "Number of people who earn $0: 2172\n",
      "Number of people who earn more than $25k: 4363\n"
     ]
    }
   ],
   "source": [
    "zero_earnings = df[df[\"Earnings_1978\"] == 0]\n",
    "print(\"Number of people who earn $0:\",zero_earnings[\"Earnings_1978\"].count())\n",
    "\n",
    "high_earnings = df[df[\"Earnings_1978\"] > 25000]\n",
    "print(\"Number of people who earn more than $25k:\",high_earnings[\"Earnings_1978\"].count())\n"
   ]
  },
  {
   "cell_type": "markdown",
   "metadata": {},
   "source": [
    "##### Outlier Conclusions\n"
   ]
  },
  {
   "cell_type": "markdown",
   "metadata": {},
   "source": [
    "There are 2 notable outliers in our data, people who earn 0 dollars and people who earn more than 25000 dollars. There are 2172/15992 (13.58%) people who earn 0 dollars and 4363/15992 (27.28%) people who earn more than 25000 dollars. Combined these 2 groups of people account for 40.68% of all earners in our data. This would significantly skew the mean earnings as our data sample no longer follows a normal distribution. So doing analysis on this data using the mean will yield inaccurate results."
   ]
  }
 ],
 "metadata": {
  "kernelspec": {
   "display_name": "Python 3.9.12 ('base')",
   "language": "python",
   "name": "python3"
  },
  "language_info": {
   "codemirror_mode": {
    "name": "ipython",
    "version": 3
   },
   "file_extension": ".py",
   "mimetype": "text/x-python",
   "name": "python",
   "nbconvert_exporter": "python",
   "pygments_lexer": "ipython3",
   "version": "3.9.12"
  },
  "orig_nbformat": 4,
  "vscode": {
   "interpreter": {
    "hash": "8161274c49b8f38f6884c14e09490e789b4bc085d1c458693b2c3500591c88d9"
   }
  }
 },
 "nbformat": 4,
 "nbformat_minor": 2
}
